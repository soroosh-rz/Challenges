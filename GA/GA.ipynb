{
  "nbformat": 4,
  "nbformat_minor": 0,
  "metadata": {
    "colab": {
      "name": "GA.ipynb",
      "provenance": [],
      "collapsed_sections": []
    },
    "kernelspec": {
      "name": "python3",
      "display_name": "Python 3"
    }
  },
  "cells": [
    {
      "cell_type": "code",
      "metadata": {
        "id": "ggMhaHHHE515",
        "colab_type": "code",
        "colab": {}
      },
      "source": [
        "import numpy as np\n",
        "import pandas as pd\n",
        "import matplotlib as mpl\n",
        "import matplotlib.pyplot as plt \n",
        "%matplotlib inline\n",
        "mpl.rcParams['patch.force_edgecolor'] = True\n",
        "import seaborn as sns\n",
        "\n",
        "import warnings\n",
        "warnings.filterwarnings(\"ignore\")"
      ],
      "execution_count": 0,
      "outputs": []
    },
    {
      "cell_type": "markdown",
      "metadata": {
        "id": "A0EKGN7UTUXC",
        "colab_type": "text"
      },
      "source": [
        "## 1.1 - Python Coding and Data Set"
      ]
    },
    {
      "cell_type": "code",
      "metadata": {
        "id": "-Li0z0nLFnRE",
        "colab_type": "code",
        "outputId": "d669bc75-1f2a-4e57-8f19-2df6f2efc1b1",
        "colab": {
          "base_uri": "https://localhost:8080/"
        }
      },
      "source": [
        "# load the data set\n",
        "df = pd.read_csv(\"breast-cancer.csv\")\n",
        "\n",
        "df.head()"
      ],
      "execution_count": 0,
      "outputs": [
        {
          "output_type": "execute_result",
          "data": {
            "text/html": [
              "<div>\n",
              "<style scoped>\n",
              "    .dataframe tbody tr th:only-of-type {\n",
              "        vertical-align: middle;\n",
              "    }\n",
              "\n",
              "    .dataframe tbody tr th {\n",
              "        vertical-align: top;\n",
              "    }\n",
              "\n",
              "    .dataframe thead th {\n",
              "        text-align: right;\n",
              "    }\n",
              "</style>\n",
              "<table border=\"1\" class=\"dataframe\">\n",
              "  <thead>\n",
              "    <tr style=\"text-align: right;\">\n",
              "      <th></th>\n",
              "      <th>842302</th>\n",
              "      <th>M</th>\n",
              "      <th>17.99</th>\n",
              "      <th>10.38</th>\n",
              "      <th>122.8</th>\n",
              "      <th>1001</th>\n",
              "      <th>0.1184</th>\n",
              "      <th>0.2776</th>\n",
              "      <th>0.3001</th>\n",
              "      <th>0.1471</th>\n",
              "      <th>0.2419</th>\n",
              "      <th>0.07871</th>\n",
              "      <th>1.095</th>\n",
              "      <th>0.9053</th>\n",
              "      <th>8.589</th>\n",
              "      <th>153.4</th>\n",
              "      <th>0.006399</th>\n",
              "      <th>0.04904</th>\n",
              "      <th>0.05373</th>\n",
              "      <th>0.01587</th>\n",
              "      <th>0.03003</th>\n",
              "      <th>0.006193</th>\n",
              "      <th>25.38</th>\n",
              "      <th>17.33</th>\n",
              "      <th>184.6</th>\n",
              "      <th>2019</th>\n",
              "      <th>0.1622</th>\n",
              "      <th>0.6656</th>\n",
              "      <th>0.7119</th>\n",
              "      <th>0.2654</th>\n",
              "      <th>0.4601</th>\n",
              "      <th>0.1189</th>\n",
              "    </tr>\n",
              "  </thead>\n",
              "  <tbody>\n",
              "    <tr>\n",
              "      <th>0</th>\n",
              "      <td>842517</td>\n",
              "      <td>M</td>\n",
              "      <td>20.57</td>\n",
              "      <td>17.77</td>\n",
              "      <td>132.90</td>\n",
              "      <td>1326.0</td>\n",
              "      <td>0.08474</td>\n",
              "      <td>0.07864</td>\n",
              "      <td>0.0869</td>\n",
              "      <td>0.07017</td>\n",
              "      <td>0.1812</td>\n",
              "      <td>0.05667</td>\n",
              "      <td>0.5435</td>\n",
              "      <td>0.7339</td>\n",
              "      <td>3.398</td>\n",
              "      <td>74.08</td>\n",
              "      <td>0.005225</td>\n",
              "      <td>0.01308</td>\n",
              "      <td>0.01860</td>\n",
              "      <td>0.01340</td>\n",
              "      <td>0.01389</td>\n",
              "      <td>0.003532</td>\n",
              "      <td>24.99</td>\n",
              "      <td>23.41</td>\n",
              "      <td>158.80</td>\n",
              "      <td>1956.0</td>\n",
              "      <td>0.1238</td>\n",
              "      <td>0.1866</td>\n",
              "      <td>0.2416</td>\n",
              "      <td>0.1860</td>\n",
              "      <td>0.2750</td>\n",
              "      <td>0.08902</td>\n",
              "    </tr>\n",
              "    <tr>\n",
              "      <th>1</th>\n",
              "      <td>84300903</td>\n",
              "      <td>M</td>\n",
              "      <td>19.69</td>\n",
              "      <td>21.25</td>\n",
              "      <td>130.00</td>\n",
              "      <td>1203.0</td>\n",
              "      <td>0.10960</td>\n",
              "      <td>0.15990</td>\n",
              "      <td>0.1974</td>\n",
              "      <td>0.12790</td>\n",
              "      <td>0.2069</td>\n",
              "      <td>0.05999</td>\n",
              "      <td>0.7456</td>\n",
              "      <td>0.7869</td>\n",
              "      <td>4.585</td>\n",
              "      <td>94.03</td>\n",
              "      <td>0.006150</td>\n",
              "      <td>0.04006</td>\n",
              "      <td>0.03832</td>\n",
              "      <td>0.02058</td>\n",
              "      <td>0.02250</td>\n",
              "      <td>0.004571</td>\n",
              "      <td>23.57</td>\n",
              "      <td>25.53</td>\n",
              "      <td>152.50</td>\n",
              "      <td>1709.0</td>\n",
              "      <td>0.1444</td>\n",
              "      <td>0.4245</td>\n",
              "      <td>0.4504</td>\n",
              "      <td>0.2430</td>\n",
              "      <td>0.3613</td>\n",
              "      <td>0.08758</td>\n",
              "    </tr>\n",
              "    <tr>\n",
              "      <th>2</th>\n",
              "      <td>84348301</td>\n",
              "      <td>M</td>\n",
              "      <td>11.42</td>\n",
              "      <td>20.38</td>\n",
              "      <td>77.58</td>\n",
              "      <td>386.1</td>\n",
              "      <td>0.14250</td>\n",
              "      <td>0.28390</td>\n",
              "      <td>0.2414</td>\n",
              "      <td>0.10520</td>\n",
              "      <td>0.2597</td>\n",
              "      <td>0.09744</td>\n",
              "      <td>0.4956</td>\n",
              "      <td>1.1560</td>\n",
              "      <td>3.445</td>\n",
              "      <td>27.23</td>\n",
              "      <td>0.009110</td>\n",
              "      <td>0.07458</td>\n",
              "      <td>0.05661</td>\n",
              "      <td>0.01867</td>\n",
              "      <td>0.05963</td>\n",
              "      <td>0.009208</td>\n",
              "      <td>14.91</td>\n",
              "      <td>26.50</td>\n",
              "      <td>98.87</td>\n",
              "      <td>567.7</td>\n",
              "      <td>0.2098</td>\n",
              "      <td>0.8663</td>\n",
              "      <td>0.6869</td>\n",
              "      <td>0.2575</td>\n",
              "      <td>0.6638</td>\n",
              "      <td>0.17300</td>\n",
              "    </tr>\n",
              "    <tr>\n",
              "      <th>3</th>\n",
              "      <td>84358402</td>\n",
              "      <td>M</td>\n",
              "      <td>20.29</td>\n",
              "      <td>14.34</td>\n",
              "      <td>135.10</td>\n",
              "      <td>1297.0</td>\n",
              "      <td>0.10030</td>\n",
              "      <td>0.13280</td>\n",
              "      <td>0.1980</td>\n",
              "      <td>0.10430</td>\n",
              "      <td>0.1809</td>\n",
              "      <td>0.05883</td>\n",
              "      <td>0.7572</td>\n",
              "      <td>0.7813</td>\n",
              "      <td>5.438</td>\n",
              "      <td>94.44</td>\n",
              "      <td>0.011490</td>\n",
              "      <td>0.02461</td>\n",
              "      <td>0.05688</td>\n",
              "      <td>0.01885</td>\n",
              "      <td>0.01756</td>\n",
              "      <td>0.005115</td>\n",
              "      <td>22.54</td>\n",
              "      <td>16.67</td>\n",
              "      <td>152.20</td>\n",
              "      <td>1575.0</td>\n",
              "      <td>0.1374</td>\n",
              "      <td>0.2050</td>\n",
              "      <td>0.4000</td>\n",
              "      <td>0.1625</td>\n",
              "      <td>0.2364</td>\n",
              "      <td>0.07678</td>\n",
              "    </tr>\n",
              "    <tr>\n",
              "      <th>4</th>\n",
              "      <td>843786</td>\n",
              "      <td>M</td>\n",
              "      <td>12.45</td>\n",
              "      <td>15.70</td>\n",
              "      <td>82.57</td>\n",
              "      <td>477.1</td>\n",
              "      <td>0.12780</td>\n",
              "      <td>0.17000</td>\n",
              "      <td>0.1578</td>\n",
              "      <td>0.08089</td>\n",
              "      <td>0.2087</td>\n",
              "      <td>0.07613</td>\n",
              "      <td>0.3345</td>\n",
              "      <td>0.8902</td>\n",
              "      <td>2.217</td>\n",
              "      <td>27.19</td>\n",
              "      <td>0.007510</td>\n",
              "      <td>0.03345</td>\n",
              "      <td>0.03672</td>\n",
              "      <td>0.01137</td>\n",
              "      <td>0.02165</td>\n",
              "      <td>0.005082</td>\n",
              "      <td>15.47</td>\n",
              "      <td>23.75</td>\n",
              "      <td>103.40</td>\n",
              "      <td>741.6</td>\n",
              "      <td>0.1791</td>\n",
              "      <td>0.5249</td>\n",
              "      <td>0.5355</td>\n",
              "      <td>0.1741</td>\n",
              "      <td>0.3985</td>\n",
              "      <td>0.12440</td>\n",
              "    </tr>\n",
              "  </tbody>\n",
              "</table>\n",
              "</div>"
            ],
            "text/plain": [
              "     842302  M  17.99  10.38   122.8  ...  0.6656  0.7119  0.2654  0.4601   0.1189\n",
              "0    842517  M  20.57  17.77  132.90  ...  0.1866  0.2416  0.1860  0.2750  0.08902\n",
              "1  84300903  M  19.69  21.25  130.00  ...  0.4245  0.4504  0.2430  0.3613  0.08758\n",
              "2  84348301  M  11.42  20.38   77.58  ...  0.8663  0.6869  0.2575  0.6638  0.17300\n",
              "3  84358402  M  20.29  14.34  135.10  ...  0.2050  0.4000  0.1625  0.2364  0.07678\n",
              "4    843786  M  12.45  15.70   82.57  ...  0.5249  0.5355  0.1741  0.3985  0.12440\n",
              "\n",
              "[5 rows x 32 columns]"
            ]
          },
          "metadata": {
            "tags": []
          },
          "execution_count": 2
        }
      ]
    },
    {
      "cell_type": "code",
      "metadata": {
        "id": "HjmXkFveG2PC",
        "colab_type": "code",
        "outputId": "0ce666c4-1f13-4526-d7b9-fb89bb4533d2",
        "colab": {
          "base_uri": "https://localhost:8080/"
        }
      },
      "source": [
        "# load headers\n",
        "with open(\"field_names.txt\") as f:\n",
        "  header_titles = f.read().split(\"\\n\")\n",
        "\n",
        "print(header_titles)"
      ],
      "execution_count": 0,
      "outputs": [
        {
          "output_type": "stream",
          "text": [
            "['ID', 'diagnosis', 'radius_mean', 'radius_sd_error', 'radius_worst', 'texture_mean', 'texture_sd_error', 'texture_worst', 'perimeter_mean', 'perimeter_sd_error', 'perimeter_worst', 'area_mean', 'area_sd_error', 'area_worst', 'smoothness_mean', 'smoothness_sd_error', 'smoothness_worst', 'compactness_mean', 'compactness_sd_error', 'compactness_worst', 'concavity_mean', 'concavity_sd_error', 'concavity_worst', 'concave_points_mean', 'concave_points_sd_error', 'concave_points_worst', 'symmetry_mean', 'symmetry_sd_error', 'symmetry_worst', 'fractal_dimension_mean', 'fractal_dimension_sd_error', 'fractal_dimension_worst']\n"
          ],
          "name": "stdout"
        }
      ]
    },
    {
      "cell_type": "code",
      "metadata": {
        "id": "mX7kJU92HE_B",
        "colab_type": "code",
        "outputId": "050f82d3-730a-4078-b6a0-e4abcf7ec3b0",
        "colab": {
          "base_uri": "https://localhost:8080/"
        }
      },
      "source": [
        "# attach headers to the data frame\n",
        "df.columns = header_titles\n",
        "df.head()"
      ],
      "execution_count": 0,
      "outputs": [
        {
          "output_type": "execute_result",
          "data": {
            "text/html": [
              "<div>\n",
              "<style scoped>\n",
              "    .dataframe tbody tr th:only-of-type {\n",
              "        vertical-align: middle;\n",
              "    }\n",
              "\n",
              "    .dataframe tbody tr th {\n",
              "        vertical-align: top;\n",
              "    }\n",
              "\n",
              "    .dataframe thead th {\n",
              "        text-align: right;\n",
              "    }\n",
              "</style>\n",
              "<table border=\"1\" class=\"dataframe\">\n",
              "  <thead>\n",
              "    <tr style=\"text-align: right;\">\n",
              "      <th></th>\n",
              "      <th>ID</th>\n",
              "      <th>diagnosis</th>\n",
              "      <th>radius_mean</th>\n",
              "      <th>radius_sd_error</th>\n",
              "      <th>radius_worst</th>\n",
              "      <th>texture_mean</th>\n",
              "      <th>texture_sd_error</th>\n",
              "      <th>texture_worst</th>\n",
              "      <th>perimeter_mean</th>\n",
              "      <th>perimeter_sd_error</th>\n",
              "      <th>perimeter_worst</th>\n",
              "      <th>area_mean</th>\n",
              "      <th>area_sd_error</th>\n",
              "      <th>area_worst</th>\n",
              "      <th>smoothness_mean</th>\n",
              "      <th>smoothness_sd_error</th>\n",
              "      <th>smoothness_worst</th>\n",
              "      <th>compactness_mean</th>\n",
              "      <th>compactness_sd_error</th>\n",
              "      <th>compactness_worst</th>\n",
              "      <th>concavity_mean</th>\n",
              "      <th>concavity_sd_error</th>\n",
              "      <th>concavity_worst</th>\n",
              "      <th>concave_points_mean</th>\n",
              "      <th>concave_points_sd_error</th>\n",
              "      <th>concave_points_worst</th>\n",
              "      <th>symmetry_mean</th>\n",
              "      <th>symmetry_sd_error</th>\n",
              "      <th>symmetry_worst</th>\n",
              "      <th>fractal_dimension_mean</th>\n",
              "      <th>fractal_dimension_sd_error</th>\n",
              "      <th>fractal_dimension_worst</th>\n",
              "    </tr>\n",
              "  </thead>\n",
              "  <tbody>\n",
              "    <tr>\n",
              "      <th>0</th>\n",
              "      <td>842517</td>\n",
              "      <td>M</td>\n",
              "      <td>20.57</td>\n",
              "      <td>17.77</td>\n",
              "      <td>132.90</td>\n",
              "      <td>1326.0</td>\n",
              "      <td>0.08474</td>\n",
              "      <td>0.07864</td>\n",
              "      <td>0.0869</td>\n",
              "      <td>0.07017</td>\n",
              "      <td>0.1812</td>\n",
              "      <td>0.05667</td>\n",
              "      <td>0.5435</td>\n",
              "      <td>0.7339</td>\n",
              "      <td>3.398</td>\n",
              "      <td>74.08</td>\n",
              "      <td>0.005225</td>\n",
              "      <td>0.01308</td>\n",
              "      <td>0.01860</td>\n",
              "      <td>0.01340</td>\n",
              "      <td>0.01389</td>\n",
              "      <td>0.003532</td>\n",
              "      <td>24.99</td>\n",
              "      <td>23.41</td>\n",
              "      <td>158.80</td>\n",
              "      <td>1956.0</td>\n",
              "      <td>0.1238</td>\n",
              "      <td>0.1866</td>\n",
              "      <td>0.2416</td>\n",
              "      <td>0.1860</td>\n",
              "      <td>0.2750</td>\n",
              "      <td>0.08902</td>\n",
              "    </tr>\n",
              "    <tr>\n",
              "      <th>1</th>\n",
              "      <td>84300903</td>\n",
              "      <td>M</td>\n",
              "      <td>19.69</td>\n",
              "      <td>21.25</td>\n",
              "      <td>130.00</td>\n",
              "      <td>1203.0</td>\n",
              "      <td>0.10960</td>\n",
              "      <td>0.15990</td>\n",
              "      <td>0.1974</td>\n",
              "      <td>0.12790</td>\n",
              "      <td>0.2069</td>\n",
              "      <td>0.05999</td>\n",
              "      <td>0.7456</td>\n",
              "      <td>0.7869</td>\n",
              "      <td>4.585</td>\n",
              "      <td>94.03</td>\n",
              "      <td>0.006150</td>\n",
              "      <td>0.04006</td>\n",
              "      <td>0.03832</td>\n",
              "      <td>0.02058</td>\n",
              "      <td>0.02250</td>\n",
              "      <td>0.004571</td>\n",
              "      <td>23.57</td>\n",
              "      <td>25.53</td>\n",
              "      <td>152.50</td>\n",
              "      <td>1709.0</td>\n",
              "      <td>0.1444</td>\n",
              "      <td>0.4245</td>\n",
              "      <td>0.4504</td>\n",
              "      <td>0.2430</td>\n",
              "      <td>0.3613</td>\n",
              "      <td>0.08758</td>\n",
              "    </tr>\n",
              "    <tr>\n",
              "      <th>2</th>\n",
              "      <td>84348301</td>\n",
              "      <td>M</td>\n",
              "      <td>11.42</td>\n",
              "      <td>20.38</td>\n",
              "      <td>77.58</td>\n",
              "      <td>386.1</td>\n",
              "      <td>0.14250</td>\n",
              "      <td>0.28390</td>\n",
              "      <td>0.2414</td>\n",
              "      <td>0.10520</td>\n",
              "      <td>0.2597</td>\n",
              "      <td>0.09744</td>\n",
              "      <td>0.4956</td>\n",
              "      <td>1.1560</td>\n",
              "      <td>3.445</td>\n",
              "      <td>27.23</td>\n",
              "      <td>0.009110</td>\n",
              "      <td>0.07458</td>\n",
              "      <td>0.05661</td>\n",
              "      <td>0.01867</td>\n",
              "      <td>0.05963</td>\n",
              "      <td>0.009208</td>\n",
              "      <td>14.91</td>\n",
              "      <td>26.50</td>\n",
              "      <td>98.87</td>\n",
              "      <td>567.7</td>\n",
              "      <td>0.2098</td>\n",
              "      <td>0.8663</td>\n",
              "      <td>0.6869</td>\n",
              "      <td>0.2575</td>\n",
              "      <td>0.6638</td>\n",
              "      <td>0.17300</td>\n",
              "    </tr>\n",
              "    <tr>\n",
              "      <th>3</th>\n",
              "      <td>84358402</td>\n",
              "      <td>M</td>\n",
              "      <td>20.29</td>\n",
              "      <td>14.34</td>\n",
              "      <td>135.10</td>\n",
              "      <td>1297.0</td>\n",
              "      <td>0.10030</td>\n",
              "      <td>0.13280</td>\n",
              "      <td>0.1980</td>\n",
              "      <td>0.10430</td>\n",
              "      <td>0.1809</td>\n",
              "      <td>0.05883</td>\n",
              "      <td>0.7572</td>\n",
              "      <td>0.7813</td>\n",
              "      <td>5.438</td>\n",
              "      <td>94.44</td>\n",
              "      <td>0.011490</td>\n",
              "      <td>0.02461</td>\n",
              "      <td>0.05688</td>\n",
              "      <td>0.01885</td>\n",
              "      <td>0.01756</td>\n",
              "      <td>0.005115</td>\n",
              "      <td>22.54</td>\n",
              "      <td>16.67</td>\n",
              "      <td>152.20</td>\n",
              "      <td>1575.0</td>\n",
              "      <td>0.1374</td>\n",
              "      <td>0.2050</td>\n",
              "      <td>0.4000</td>\n",
              "      <td>0.1625</td>\n",
              "      <td>0.2364</td>\n",
              "      <td>0.07678</td>\n",
              "    </tr>\n",
              "    <tr>\n",
              "      <th>4</th>\n",
              "      <td>843786</td>\n",
              "      <td>M</td>\n",
              "      <td>12.45</td>\n",
              "      <td>15.70</td>\n",
              "      <td>82.57</td>\n",
              "      <td>477.1</td>\n",
              "      <td>0.12780</td>\n",
              "      <td>0.17000</td>\n",
              "      <td>0.1578</td>\n",
              "      <td>0.08089</td>\n",
              "      <td>0.2087</td>\n",
              "      <td>0.07613</td>\n",
              "      <td>0.3345</td>\n",
              "      <td>0.8902</td>\n",
              "      <td>2.217</td>\n",
              "      <td>27.19</td>\n",
              "      <td>0.007510</td>\n",
              "      <td>0.03345</td>\n",
              "      <td>0.03672</td>\n",
              "      <td>0.01137</td>\n",
              "      <td>0.02165</td>\n",
              "      <td>0.005082</td>\n",
              "      <td>15.47</td>\n",
              "      <td>23.75</td>\n",
              "      <td>103.40</td>\n",
              "      <td>741.6</td>\n",
              "      <td>0.1791</td>\n",
              "      <td>0.5249</td>\n",
              "      <td>0.5355</td>\n",
              "      <td>0.1741</td>\n",
              "      <td>0.3985</td>\n",
              "      <td>0.12440</td>\n",
              "    </tr>\n",
              "  </tbody>\n",
              "</table>\n",
              "</div>"
            ],
            "text/plain": [
              "         ID diagnosis  ...  fractal_dimension_sd_error  fractal_dimension_worst\n",
              "0    842517         M  ...                      0.2750                  0.08902\n",
              "1  84300903         M  ...                      0.3613                  0.08758\n",
              "2  84348301         M  ...                      0.6638                  0.17300\n",
              "3  84358402         M  ...                      0.2364                  0.07678\n",
              "4    843786         M  ...                      0.3985                  0.12440\n",
              "\n",
              "[5 rows x 32 columns]"
            ]
          },
          "metadata": {
            "tags": []
          },
          "execution_count": 4
        }
      ]
    },
    {
      "cell_type": "code",
      "metadata": {
        "id": "DtfGGr6wHjLi",
        "colab_type": "code",
        "outputId": "950e6ebe-4b45-4f38-eadc-2184134dd217",
        "colab": {
          "base_uri": "https://localhost:8080/"
        }
      },
      "source": [
        "# There is no missing value in the data set\n",
        "df.isnull().sum()"
      ],
      "execution_count": 0,
      "outputs": [
        {
          "output_type": "execute_result",
          "data": {
            "text/plain": [
              "ID                            0\n",
              "diagnosis                     0\n",
              "radius_mean                   0\n",
              "radius_sd_error               0\n",
              "radius_worst                  0\n",
              "texture_mean                  0\n",
              "texture_sd_error              0\n",
              "texture_worst                 0\n",
              "perimeter_mean                0\n",
              "perimeter_sd_error            0\n",
              "perimeter_worst               0\n",
              "area_mean                     0\n",
              "area_sd_error                 0\n",
              "area_worst                    0\n",
              "smoothness_mean               0\n",
              "smoothness_sd_error           0\n",
              "smoothness_worst              0\n",
              "compactness_mean              0\n",
              "compactness_sd_error          0\n",
              "compactness_worst             0\n",
              "concavity_mean                0\n",
              "concavity_sd_error            0\n",
              "concavity_worst               0\n",
              "concave_points_mean           0\n",
              "concave_points_sd_error       0\n",
              "concave_points_worst          0\n",
              "symmetry_mean                 0\n",
              "symmetry_sd_error             0\n",
              "symmetry_worst                0\n",
              "fractal_dimension_mean        0\n",
              "fractal_dimension_sd_error    0\n",
              "fractal_dimension_worst       0\n",
              "dtype: int64"
            ]
          },
          "metadata": {
            "tags": []
          },
          "execution_count": 5
        }
      ]
    },
    {
      "cell_type": "code",
      "metadata": {
        "id": "drn5mPTVIbN6",
        "colab_type": "code",
        "outputId": "a8bb16d1-feda-432b-bfd5-a21c18680bed",
        "colab": {
          "base_uri": "https://localhost:8080/"
        }
      },
      "source": [
        "# check data frame info\n",
        "df.info()"
      ],
      "execution_count": 0,
      "outputs": [
        {
          "output_type": "stream",
          "text": [
            "<class 'pandas.core.frame.DataFrame'>\n",
            "RangeIndex: 568 entries, 0 to 567\n",
            "Data columns (total 32 columns):\n",
            "ID                            568 non-null int64\n",
            "diagnosis                     568 non-null object\n",
            "radius_mean                   568 non-null float64\n",
            "radius_sd_error               568 non-null float64\n",
            "radius_worst                  568 non-null float64\n",
            "texture_mean                  568 non-null float64\n",
            "texture_sd_error              568 non-null float64\n",
            "texture_worst                 568 non-null float64\n",
            "perimeter_mean                568 non-null float64\n",
            "perimeter_sd_error            568 non-null float64\n",
            "perimeter_worst               568 non-null float64\n",
            "area_mean                     568 non-null float64\n",
            "area_sd_error                 568 non-null float64\n",
            "area_worst                    568 non-null float64\n",
            "smoothness_mean               568 non-null float64\n",
            "smoothness_sd_error           568 non-null float64\n",
            "smoothness_worst              568 non-null float64\n",
            "compactness_mean              568 non-null float64\n",
            "compactness_sd_error          568 non-null float64\n",
            "compactness_worst             568 non-null float64\n",
            "concavity_mean                568 non-null float64\n",
            "concavity_sd_error            568 non-null float64\n",
            "concavity_worst               568 non-null float64\n",
            "concave_points_mean           568 non-null float64\n",
            "concave_points_sd_error       568 non-null float64\n",
            "concave_points_worst          568 non-null float64\n",
            "symmetry_mean                 568 non-null float64\n",
            "symmetry_sd_error             568 non-null float64\n",
            "symmetry_worst                568 non-null float64\n",
            "fractal_dimension_mean        568 non-null float64\n",
            "fractal_dimension_sd_error    568 non-null float64\n",
            "fractal_dimension_worst       568 non-null float64\n",
            "dtypes: float64(30), int64(1), object(1)\n",
            "memory usage: 142.1+ KB\n"
          ],
          "name": "stdout"
        }
      ]
    },
    {
      "cell_type": "markdown",
      "metadata": {
        "id": "oC7viUuIJCDa",
        "colab_type": "text"
      },
      "source": [
        "All the fields are of type float64 exept diagnosis. So we need categorical encoding"
      ]
    },
    {
      "cell_type": "code",
      "metadata": {
        "id": "1n4bVWe5JRai",
        "colab_type": "code",
        "outputId": "a7457b6b-3805-4c77-9a8e-344771f0c0dc",
        "colab": {
          "base_uri": "https://localhost:8080/"
        }
      },
      "source": [
        "# categorical encoding of the labels\n",
        "df[\"diagnosis\"].unique() # check unique values in the diagnosis column"
      ],
      "execution_count": 0,
      "outputs": [
        {
          "output_type": "execute_result",
          "data": {
            "text/plain": [
              "array(['M', 'B'], dtype=object)"
            ]
          },
          "metadata": {
            "tags": []
          },
          "execution_count": 7
        }
      ]
    },
    {
      "cell_type": "code",
      "metadata": {
        "id": "VtAhqgTgJpsI",
        "colab_type": "code",
        "outputId": "e2fb5f67-df1c-4cb5-f8fa-28723e1bce4c",
        "colab": {
          "base_uri": "https://localhost:8080/"
        }
      },
      "source": [
        "# Diagnosis = 1 if it is M otherwise it is 0\n",
        "df[\"diagnosis\"] = df[\"diagnosis\"].apply(lambda s: 1 if s==\"M\" else 0)\n",
        "\n",
        "df.head() # check data frame"
      ],
      "execution_count": 0,
      "outputs": [
        {
          "output_type": "execute_result",
          "data": {
            "text/html": [
              "<div>\n",
              "<style scoped>\n",
              "    .dataframe tbody tr th:only-of-type {\n",
              "        vertical-align: middle;\n",
              "    }\n",
              "\n",
              "    .dataframe tbody tr th {\n",
              "        vertical-align: top;\n",
              "    }\n",
              "\n",
              "    .dataframe thead th {\n",
              "        text-align: right;\n",
              "    }\n",
              "</style>\n",
              "<table border=\"1\" class=\"dataframe\">\n",
              "  <thead>\n",
              "    <tr style=\"text-align: right;\">\n",
              "      <th></th>\n",
              "      <th>ID</th>\n",
              "      <th>diagnosis</th>\n",
              "      <th>radius_mean</th>\n",
              "      <th>radius_sd_error</th>\n",
              "      <th>radius_worst</th>\n",
              "      <th>texture_mean</th>\n",
              "      <th>texture_sd_error</th>\n",
              "      <th>texture_worst</th>\n",
              "      <th>perimeter_mean</th>\n",
              "      <th>perimeter_sd_error</th>\n",
              "      <th>perimeter_worst</th>\n",
              "      <th>area_mean</th>\n",
              "      <th>area_sd_error</th>\n",
              "      <th>area_worst</th>\n",
              "      <th>smoothness_mean</th>\n",
              "      <th>smoothness_sd_error</th>\n",
              "      <th>smoothness_worst</th>\n",
              "      <th>compactness_mean</th>\n",
              "      <th>compactness_sd_error</th>\n",
              "      <th>compactness_worst</th>\n",
              "      <th>concavity_mean</th>\n",
              "      <th>concavity_sd_error</th>\n",
              "      <th>concavity_worst</th>\n",
              "      <th>concave_points_mean</th>\n",
              "      <th>concave_points_sd_error</th>\n",
              "      <th>concave_points_worst</th>\n",
              "      <th>symmetry_mean</th>\n",
              "      <th>symmetry_sd_error</th>\n",
              "      <th>symmetry_worst</th>\n",
              "      <th>fractal_dimension_mean</th>\n",
              "      <th>fractal_dimension_sd_error</th>\n",
              "      <th>fractal_dimension_worst</th>\n",
              "    </tr>\n",
              "  </thead>\n",
              "  <tbody>\n",
              "    <tr>\n",
              "      <th>0</th>\n",
              "      <td>842517</td>\n",
              "      <td>1</td>\n",
              "      <td>20.57</td>\n",
              "      <td>17.77</td>\n",
              "      <td>132.90</td>\n",
              "      <td>1326.0</td>\n",
              "      <td>0.08474</td>\n",
              "      <td>0.07864</td>\n",
              "      <td>0.0869</td>\n",
              "      <td>0.07017</td>\n",
              "      <td>0.1812</td>\n",
              "      <td>0.05667</td>\n",
              "      <td>0.5435</td>\n",
              "      <td>0.7339</td>\n",
              "      <td>3.398</td>\n",
              "      <td>74.08</td>\n",
              "      <td>0.005225</td>\n",
              "      <td>0.01308</td>\n",
              "      <td>0.01860</td>\n",
              "      <td>0.01340</td>\n",
              "      <td>0.01389</td>\n",
              "      <td>0.003532</td>\n",
              "      <td>24.99</td>\n",
              "      <td>23.41</td>\n",
              "      <td>158.80</td>\n",
              "      <td>1956.0</td>\n",
              "      <td>0.1238</td>\n",
              "      <td>0.1866</td>\n",
              "      <td>0.2416</td>\n",
              "      <td>0.1860</td>\n",
              "      <td>0.2750</td>\n",
              "      <td>0.08902</td>\n",
              "    </tr>\n",
              "    <tr>\n",
              "      <th>1</th>\n",
              "      <td>84300903</td>\n",
              "      <td>1</td>\n",
              "      <td>19.69</td>\n",
              "      <td>21.25</td>\n",
              "      <td>130.00</td>\n",
              "      <td>1203.0</td>\n",
              "      <td>0.10960</td>\n",
              "      <td>0.15990</td>\n",
              "      <td>0.1974</td>\n",
              "      <td>0.12790</td>\n",
              "      <td>0.2069</td>\n",
              "      <td>0.05999</td>\n",
              "      <td>0.7456</td>\n",
              "      <td>0.7869</td>\n",
              "      <td>4.585</td>\n",
              "      <td>94.03</td>\n",
              "      <td>0.006150</td>\n",
              "      <td>0.04006</td>\n",
              "      <td>0.03832</td>\n",
              "      <td>0.02058</td>\n",
              "      <td>0.02250</td>\n",
              "      <td>0.004571</td>\n",
              "      <td>23.57</td>\n",
              "      <td>25.53</td>\n",
              "      <td>152.50</td>\n",
              "      <td>1709.0</td>\n",
              "      <td>0.1444</td>\n",
              "      <td>0.4245</td>\n",
              "      <td>0.4504</td>\n",
              "      <td>0.2430</td>\n",
              "      <td>0.3613</td>\n",
              "      <td>0.08758</td>\n",
              "    </tr>\n",
              "    <tr>\n",
              "      <th>2</th>\n",
              "      <td>84348301</td>\n",
              "      <td>1</td>\n",
              "      <td>11.42</td>\n",
              "      <td>20.38</td>\n",
              "      <td>77.58</td>\n",
              "      <td>386.1</td>\n",
              "      <td>0.14250</td>\n",
              "      <td>0.28390</td>\n",
              "      <td>0.2414</td>\n",
              "      <td>0.10520</td>\n",
              "      <td>0.2597</td>\n",
              "      <td>0.09744</td>\n",
              "      <td>0.4956</td>\n",
              "      <td>1.1560</td>\n",
              "      <td>3.445</td>\n",
              "      <td>27.23</td>\n",
              "      <td>0.009110</td>\n",
              "      <td>0.07458</td>\n",
              "      <td>0.05661</td>\n",
              "      <td>0.01867</td>\n",
              "      <td>0.05963</td>\n",
              "      <td>0.009208</td>\n",
              "      <td>14.91</td>\n",
              "      <td>26.50</td>\n",
              "      <td>98.87</td>\n",
              "      <td>567.7</td>\n",
              "      <td>0.2098</td>\n",
              "      <td>0.8663</td>\n",
              "      <td>0.6869</td>\n",
              "      <td>0.2575</td>\n",
              "      <td>0.6638</td>\n",
              "      <td>0.17300</td>\n",
              "    </tr>\n",
              "    <tr>\n",
              "      <th>3</th>\n",
              "      <td>84358402</td>\n",
              "      <td>1</td>\n",
              "      <td>20.29</td>\n",
              "      <td>14.34</td>\n",
              "      <td>135.10</td>\n",
              "      <td>1297.0</td>\n",
              "      <td>0.10030</td>\n",
              "      <td>0.13280</td>\n",
              "      <td>0.1980</td>\n",
              "      <td>0.10430</td>\n",
              "      <td>0.1809</td>\n",
              "      <td>0.05883</td>\n",
              "      <td>0.7572</td>\n",
              "      <td>0.7813</td>\n",
              "      <td>5.438</td>\n",
              "      <td>94.44</td>\n",
              "      <td>0.011490</td>\n",
              "      <td>0.02461</td>\n",
              "      <td>0.05688</td>\n",
              "      <td>0.01885</td>\n",
              "      <td>0.01756</td>\n",
              "      <td>0.005115</td>\n",
              "      <td>22.54</td>\n",
              "      <td>16.67</td>\n",
              "      <td>152.20</td>\n",
              "      <td>1575.0</td>\n",
              "      <td>0.1374</td>\n",
              "      <td>0.2050</td>\n",
              "      <td>0.4000</td>\n",
              "      <td>0.1625</td>\n",
              "      <td>0.2364</td>\n",
              "      <td>0.07678</td>\n",
              "    </tr>\n",
              "    <tr>\n",
              "      <th>4</th>\n",
              "      <td>843786</td>\n",
              "      <td>1</td>\n",
              "      <td>12.45</td>\n",
              "      <td>15.70</td>\n",
              "      <td>82.57</td>\n",
              "      <td>477.1</td>\n",
              "      <td>0.12780</td>\n",
              "      <td>0.17000</td>\n",
              "      <td>0.1578</td>\n",
              "      <td>0.08089</td>\n",
              "      <td>0.2087</td>\n",
              "      <td>0.07613</td>\n",
              "      <td>0.3345</td>\n",
              "      <td>0.8902</td>\n",
              "      <td>2.217</td>\n",
              "      <td>27.19</td>\n",
              "      <td>0.007510</td>\n",
              "      <td>0.03345</td>\n",
              "      <td>0.03672</td>\n",
              "      <td>0.01137</td>\n",
              "      <td>0.02165</td>\n",
              "      <td>0.005082</td>\n",
              "      <td>15.47</td>\n",
              "      <td>23.75</td>\n",
              "      <td>103.40</td>\n",
              "      <td>741.6</td>\n",
              "      <td>0.1791</td>\n",
              "      <td>0.5249</td>\n",
              "      <td>0.5355</td>\n",
              "      <td>0.1741</td>\n",
              "      <td>0.3985</td>\n",
              "      <td>0.12440</td>\n",
              "    </tr>\n",
              "  </tbody>\n",
              "</table>\n",
              "</div>"
            ],
            "text/plain": [
              "         ID  diagnosis  ...  fractal_dimension_sd_error  fractal_dimension_worst\n",
              "0    842517          1  ...                      0.2750                  0.08902\n",
              "1  84300903          1  ...                      0.3613                  0.08758\n",
              "2  84348301          1  ...                      0.6638                  0.17300\n",
              "3  84358402          1  ...                      0.2364                  0.07678\n",
              "4    843786          1  ...                      0.3985                  0.12440\n",
              "\n",
              "[5 rows x 32 columns]"
            ]
          },
          "metadata": {
            "tags": []
          },
          "execution_count": 8
        }
      ]
    },
    {
      "cell_type": "code",
      "metadata": {
        "id": "fHEHGq9bKZLA",
        "colab_type": "code",
        "outputId": "6a64128d-8ee4-42d6-ddac-6621af17b5b0",
        "colab": {
          "base_uri": "https://localhost:8080/"
        }
      },
      "source": [
        "# check the number of benign and malignant tumors \n",
        "df[\"diagnosis\"].value_counts()"
      ],
      "execution_count": 0,
      "outputs": [
        {
          "output_type": "execute_result",
          "data": {
            "text/plain": [
              "0    357\n",
              "1    211\n",
              "Name: diagnosis, dtype: int64"
            ]
          },
          "metadata": {
            "tags": []
          },
          "execution_count": 9
        }
      ]
    },
    {
      "cell_type": "code",
      "metadata": {
        "id": "y2onY8KeKLcT",
        "colab_type": "code",
        "outputId": "4ccb778d-bba5-42c2-f1da-505f0e94232c",
        "colab": {
          "base_uri": "https://localhost:8080/"
        }
      },
      "source": [
        "print(\"Mean smoothness (benign (0) and malignant (1) ): \")\n",
        "smooth_mean = df.groupby(\"diagnosis\")[\"smoothness_mean\"].mean()\n",
        "print(smooth_mean)\n",
        "print(\"=\"*60)\n",
        "print(\"Median smoothness (benign (0) and malignant (1) ): \")\n",
        "smooth_median = df.groupby(\"diagnosis\")[\"smoothness_mean\"].median()\n",
        "print(smooth_median)"
      ],
      "execution_count": 0,
      "outputs": [
        {
          "output_type": "stream",
          "text": [
            "Mean smoothness (benign (0) and malignant (1) ): \n",
            "diagnosis\n",
            "0    2.000321\n",
            "1    4.303716\n",
            "Name: smoothness_mean, dtype: float64\n",
            "============================================================\n",
            "Median smoothness (benign (0) and malignant (1) ): \n",
            "diagnosis\n",
            "0    1.851\n",
            "1    3.654\n",
            "Name: smoothness_mean, dtype: float64\n"
          ],
          "name": "stdout"
        }
      ]
    },
    {
      "cell_type": "code",
      "metadata": {
        "id": "ayL3aYQGNIHg",
        "colab_type": "code",
        "outputId": "db9711f5-321a-4418-cc01-100b99b22e62",
        "colab": {
          "base_uri": "https://localhost:8080/"
        }
      },
      "source": [
        "print(\"Mean compactness (benign (0) and malignant (1) ): \")\n",
        "compactness_mean = df.groupby(\"diagnosis\")[\"compactness_mean\"].mean()\n",
        "print(compactness_mean)\n",
        "print(\"=\"*60)\n",
        "print(\"Median compactness (benign (0) and malignant (1) ): \")\n",
        "compactness_median = df.groupby(\"diagnosis\")[\"compactness_mean\"].median()\n",
        "print(compactness_median)"
      ],
      "execution_count": 0,
      "outputs": [
        {
          "output_type": "stream",
          "text": [
            "Mean compactness (benign (0) and malignant (1) ): \n",
            "diagnosis\n",
            "0    0.021438\n",
            "1    0.032202\n",
            "Name: compactness_mean, dtype: float64\n",
            "============================================================\n",
            "Median compactness (benign (0) and malignant (1) ): \n",
            "diagnosis\n",
            "0    0.01631\n",
            "1    0.02855\n",
            "Name: compactness_mean, dtype: float64\n"
          ],
          "name": "stdout"
        }
      ]
    },
    {
      "cell_type": "markdown",
      "metadata": {
        "id": "HoAPUO9OOTGf",
        "colab_type": "text"
      },
      "source": [
        "The mean and median are different"
      ]
    },
    {
      "cell_type": "code",
      "metadata": {
        "id": "zwFm7vvbOSJ_",
        "colab_type": "code",
        "outputId": "e5416b24-c246-49c6-ab29-aa6490dbaaf4",
        "colab": {
          "base_uri": "https://localhost:8080/"
        }
      },
      "source": [
        "# Write a function to generate bootstrap samples of the data\n",
        "# draw n samples with replacement\n",
        "\n",
        "def generate_bootstrap(data_frame, n):\n",
        "  sample_with_replacement = data_frame.sample(n=n,replace=True)\n",
        "  return sample_with_replacement\n",
        "\n",
        "print(\"Dataset 1:\")\n",
        "print(generate_bootstrap(df, 5)) \n",
        "print(\"Dataset 2:\")\n",
        "print(generate_bootstrap(df, 5)) \n",
        "print(\"Dataset 3:\")\n",
        "print(generate_bootstrap(df, 5)) \n"
      ],
      "execution_count": 0,
      "outputs": [
        {
          "output_type": "stream",
          "text": [
            "Dataset 1:\n",
            "           ID  diagnosis  ...  fractal_dimension_sd_error  fractal_dimension_worst\n",
            "191    875099          0  ...                      0.1909                  0.06559\n",
            "285   8912909          0  ...                      0.2465                  0.09981\n",
            "43   85638502          1  ...                      0.3693                  0.09618\n",
            "214   8810987          1  ...                      0.3630                  0.10590\n",
            "382     90251          0  ...                      0.2819                  0.11180\n",
            "\n",
            "[5 rows x 32 columns]\n",
            "Dataset 2:\n",
            "          ID  diagnosis  ...  fractal_dimension_sd_error  fractal_dimension_worst\n",
            "474   911408          0  ...                      0.3006                  0.07802\n",
            "173   871642          0  ...                      0.2710                  0.06164\n",
            "132   867387          0  ...                      0.2723                  0.07071\n",
            "287  8913049          0  ...                      0.2955                  0.07009\n",
            "186   874373          0  ...                      0.2572                  0.07097\n",
            "\n",
            "[5 rows x 32 columns]\n",
            "Dataset 3:\n",
            "          ID  diagnosis  ...  fractal_dimension_sd_error  fractal_dimension_worst\n",
            "393   903554          0  ...                      0.3049                  0.07081\n",
            "550   923780          0  ...                      0.3169                  0.08032\n",
            "480    91227          0  ...                      0.2356                  0.07603\n",
            "74   8610404          1  ...                      0.2650                  0.06387\n",
            "254   886452          1  ...                      0.3068                  0.07957\n",
            "\n",
            "[5 rows x 32 columns]\n"
          ],
          "name": "stdout"
        }
      ]
    },
    {
      "cell_type": "markdown",
      "metadata": {
        "id": "4Ufi7ANTTfa3",
        "colab_type": "text"
      },
      "source": [
        "## 1.2 - Exploratory Analysis"
      ]
    },
    {
      "cell_type": "markdown",
      "metadata": {
        "id": "ghz6kCQ_UhqV",
        "colab_type": "text"
      },
      "source": [
        "Identify 2-3 variables that are predictive of a malignant tumor. Display the relationship visually and write 1-2 sentences explaining the relationship.\n"
      ]
    },
    {
      "cell_type": "code",
      "metadata": {
        "id": "KLmvj7HxZP2W",
        "colab_type": "code",
        "outputId": "38db57ee-aa91-4dae-82be-2e398cf97523",
        "colab": {
          "base_uri": "https://localhost:8080/"
        }
      },
      "source": [
        "print(\"features:\\n\", df.columns)"
      ],
      "execution_count": 0,
      "outputs": [
        {
          "output_type": "stream",
          "text": [
            "features:\n",
            " Index(['ID', 'diagnosis', 'radius_mean', 'radius_sd_error', 'radius_worst',\n",
            "       'texture_mean', 'texture_sd_error', 'texture_worst', 'perimeter_mean',\n",
            "       'perimeter_sd_error', 'perimeter_worst', 'area_mean', 'area_sd_error',\n",
            "       'area_worst', 'smoothness_mean', 'smoothness_sd_error',\n",
            "       'smoothness_worst', 'compactness_mean', 'compactness_sd_error',\n",
            "       'compactness_worst', 'concavity_mean', 'concavity_sd_error',\n",
            "       'concavity_worst', 'concave_points_mean', 'concave_points_sd_error',\n",
            "       'concave_points_worst', 'symmetry_mean', 'symmetry_sd_error',\n",
            "       'symmetry_worst', 'fractal_dimension_mean',\n",
            "       'fractal_dimension_sd_error', 'fractal_dimension_worst'],\n",
            "      dtype='object')\n"
          ],
          "name": "stdout"
        }
      ]
    },
    {
      "cell_type": "markdown",
      "metadata": {
        "id": "HGMosUf1d9V5",
        "colab_type": "text"
      },
      "source": [
        "#### Distribution plot of different features for diagnosis categories"
      ]
    },
    {
      "cell_type": "code",
      "metadata": {
        "id": "43RH0dMKTjD9",
        "colab_type": "code",
        "outputId": "9ae2cb0a-1526-4f73-c313-c9670ae5846f",
        "colab": {
          "base_uri": "https://localhost:8080/"
        }
      },
      "source": [
        "# Distribution plot \n",
        "feature = \"radius_mean\"\n",
        "sns.distplot( df[df['diagnosis'] == 0][feature] , color=\"blue\", label = \"Benign\")\n",
        "sns.distplot( df[df['diagnosis'] == 1][feature] , color=\"red\", label = \"Malignant\")\n",
        "plt.legend()\n"
      ],
      "execution_count": 0,
      "outputs": [
        {
          "output_type": "execute_result",
          "data": {
            "text/plain": [
              "<matplotlib.legend.Legend at 0x7f0b111237b8>"
            ]
          },
          "metadata": {
            "tags": []
          },
          "execution_count": 14
        },
        {
          "output_type": "display_data",
          "data": {
            "image/png": "[encoded data removed]",
            "text/plain": [
              "<Figure size 432x288 with 1 Axes>"
            ]
          },
          "metadata": {
            "tags": []
          }
        }
      ]
    },
    {
      "cell_type": "code",
      "metadata": {
        "id": "W1IDn14Eiy3R",
        "colab_type": "code",
        "outputId": "e0eb2db9-e66d-4e76-cb08-398397b8c837",
        "colab": {
          "base_uri": "https://localhost:8080/"
        }
      },
      "source": [
        "# Distribution plot \n",
        "feature = \"symmetry_mean\"\n",
        "sns.distplot( df[df['diagnosis'] == 0][feature] , color=\"blue\", label = \"Benign\")\n",
        "sns.distplot( df[df['diagnosis'] == 1][feature] , color=\"red\", label = \"Malignant\")\n",
        "plt.legend()"
      ],
      "execution_count": 0,
      "outputs": [
        {
          "output_type": "execute_result",
          "data": {
            "text/plain": [
              "<matplotlib.legend.Legend at 0x7f0b11091048>"
            ]
          },
          "metadata": {
            "tags": []
          },
          "execution_count": 15
        },
        {
          "output_type": "display_data",
          "data": {
            "image/png": "[encoded data removed]",
            "text/plain": [
              "<Figure size 432x288 with 1 Axes>"
            ]
          },
          "metadata": {
            "tags": []
          }
        }
      ]
    },
    {
      "cell_type": "code",
      "metadata": {
        "id": "8f_LrHhNahKt",
        "colab_type": "code",
        "outputId": "eed0a702-98fd-432a-a845-756ca0bc69bf",
        "colab": {
          "base_uri": "https://localhost:8080/"
        }
      },
      "source": [
        "# Distribution graph for smoothness properties\n",
        "# skyblue colour for benign tumor and red colour for malignant tumor\n",
        "feature = \"texture_mean\"\n",
        "sns.distplot( df[df['diagnosis'] == 0][feature] , color=\"blue\", label = \"Benign\")\n",
        "sns.distplot( df[df['diagnosis'] == 1][feature] , color=\"red\", label = \"Malignant\")\n",
        "plt.legend()"
      ],
      "execution_count": 0,
      "outputs": [
        {
          "output_type": "execute_result",
          "data": {
            "text/plain": [
              "<matplotlib.legend.Legend at 0x7f0b10b83128>"
            ]
          },
          "metadata": {
            "tags": []
          },
          "execution_count": 16
        },
        {
          "output_type": "display_data",
          "data": {
            "image/png": "[encoded data removed]",
            "text/plain": [
              "<Figure size 432x288 with 1 Axes>"
            ]
          },
          "metadata": {
            "tags": []
          }
        }
      ]
    },
    {
      "cell_type": "code",
      "metadata": {
        "id": "jSfwKBHGavPK",
        "colab_type": "code",
        "outputId": "dfd13936-5b45-4e5e-8e26-60b57374c2d4",
        "colab": {
          "base_uri": "https://localhost:8080/"
        }
      },
      "source": [
        "# Distribution graph for smoothness properties\n",
        "# skyblue colour for benign tumor and red colour for malignant tumor\n",
        "feature = \"perimeter_mean\"\n",
        "sns.distplot( df[df['diagnosis'] == 0][feature] , color=\"blue\", label = \"Benign\")\n",
        "sns.distplot( df[df['diagnosis'] == 1][feature] , color=\"red\", label = \"Malignant\")\n",
        "plt.legend()"
      ],
      "execution_count": 0,
      "outputs": [
        {
          "output_type": "execute_result",
          "data": {
            "text/plain": [
              "<matplotlib.legend.Legend at 0x7f0b10a44fd0>"
            ]
          },
          "metadata": {
            "tags": []
          },
          "execution_count": 17
        },
        {
          "output_type": "display_data",
          "data": {
            "image/png": "[encoded data removed]",
            "text/plain": [
              "<Figure size 432x288 with 1 Axes>"
            ]
          },
          "metadata": {
            "tags": []
          }
        }
      ]
    },
    {
      "cell_type": "code",
      "metadata": {
        "id": "rhGxEYIma-yT",
        "colab_type": "code",
        "outputId": "23c4847e-bc67-49d2-cd3a-5ea3912adf40",
        "colab": {
          "base_uri": "https://localhost:8080/"
        }
      },
      "source": [
        "# Distribution graph for smoothness properties\n",
        "# skyblue colour for benign tumor and red colour for malignant tumor\n",
        "feature = \"area_mean\"\n",
        "sns.distplot( df[df['diagnosis'] == 0][feature] , color=\"blue\", label = \"Benign\")\n",
        "sns.distplot( df[df['diagnosis'] == 1][feature] , color=\"red\", label = \"Malignant\")\n",
        "plt.legend()"
      ],
      "execution_count": 0,
      "outputs": [
        {
          "output_type": "execute_result",
          "data": {
            "text/plain": [
              "<matplotlib.legend.Legend at 0x7f0b1c368128>"
            ]
          },
          "metadata": {
            "tags": []
          },
          "execution_count": 18
        },
        {
          "output_type": "display_data",
          "data": {
            "image/png": "[encoded data removed]",
            "text/plain": [
              "<Figure size 432x288 with 1 Axes>"
            ]
          },
          "metadata": {
            "tags": []
          }
        }
      ]
    },
    {
      "cell_type": "code",
      "metadata": {
        "id": "jNhkwKihbVtT",
        "colab_type": "code",
        "outputId": "e0fc73cf-8afa-469c-cfd0-9801d46df6cc",
        "colab": {
          "base_uri": "https://localhost:8080/"
        }
      },
      "source": [
        "# Distribution graph for smoothness properties\n",
        "# skyblue colour for benign tumor and red colour for malignant tumor\n",
        "feature = \"smoothness_mean\"\n",
        "sns.distplot( df[df['diagnosis'] == 0][feature] , color=\"blue\", label = \"Benign\")\n",
        "sns.distplot( df[df['diagnosis'] == 1][feature] , color=\"red\", label = \"Malignant\")\n",
        "plt.legend()"
      ],
      "execution_count": 0,
      "outputs": [
        {
          "output_type": "execute_result",
          "data": {
            "text/plain": [
              "<matplotlib.legend.Legend at 0x7f0b107e9048>"
            ]
          },
          "metadata": {
            "tags": []
          },
          "execution_count": 19
        },
        {
          "output_type": "display_data",
          "data": {
            "image/png": "[encoded data removed]",
            "text/plain": [
              "<Figure size 432x288 with 1 Axes>"
            ]
          },
          "metadata": {
            "tags": []
          }
        }
      ]
    },
    {
      "cell_type": "code",
      "metadata": {
        "id": "-giwT7fqbk6G",
        "colab_type": "code",
        "outputId": "35b80095-69d7-4148-a1a2-79dd13392419",
        "colab": {
          "base_uri": "https://localhost:8080/"
        }
      },
      "source": [
        "feature = \"compactness_mean\"\n",
        "sns.distplot( df[df['diagnosis'] == 0][feature] , color=\"blue\", label = \"Benign\")\n",
        "sns.distplot( df[df['diagnosis'] == 1][feature] , color=\"red\", label = \"Malignant\")\n",
        "plt.legend()"
      ],
      "execution_count": 0,
      "outputs": [
        {
          "output_type": "execute_result",
          "data": {
            "text/plain": [
              "<matplotlib.legend.Legend at 0x7f0b107304e0>"
            ]
          },
          "metadata": {
            "tags": []
          },
          "execution_count": 20
        },
        {
          "output_type": "display_data",
          "data": {
            "image/png": "[encoded data removed]",
            "text/plain": [
              "<Figure size 432x288 with 1 Axes>"
            ]
          },
          "metadata": {
            "tags": []
          }
        }
      ]
    },
    {
      "cell_type": "code",
      "metadata": {
        "id": "k4cQfwuZbzHs",
        "colab_type": "code",
        "outputId": "3a882857-9589-47b9-8a04-c9edbb0ff3a2",
        "colab": {
          "base_uri": "https://localhost:8080/"
        }
      },
      "source": [
        "feature = \"concavity_mean\"\n",
        "sns.distplot( df[df['diagnosis'] == 0][feature] , color=\"blue\", label = \"Benign\")\n",
        "sns.distplot( df[df['diagnosis'] == 1][feature] , color=\"red\", label = \"Malignant\")\n",
        "plt.legend()"
      ],
      "execution_count": 0,
      "outputs": [
        {
          "output_type": "execute_result",
          "data": {
            "text/plain": [
              "<matplotlib.legend.Legend at 0x7f0b10628710>"
            ]
          },
          "metadata": {
            "tags": []
          },
          "execution_count": 21
        },
        {
          "output_type": "display_data",
          "data": {
            "image/png": "[encoded data removed]",
            "text/plain": [
              "<Figure size 432x288 with 1 Axes>"
            ]
          },
          "metadata": {
            "tags": []
          }
        }
      ]
    },
    {
      "cell_type": "code",
      "metadata": {
        "id": "cLwsCPStcSpU",
        "colab_type": "code",
        "outputId": "407e5891-921a-4f3b-f350-c9d5a92240d7",
        "colab": {
          "base_uri": "https://localhost:8080/"
        }
      },
      "source": [
        "feature = \"fractal_dimension_mean\"\n",
        "sns.distplot( df[df['diagnosis'] == 0][feature] , color=\"blue\", label = \"Benign\")\n",
        "sns.distplot( df[df['diagnosis'] == 1][feature] , color=\"red\", label = \"Malignant\")\n",
        "plt.legend()"
      ],
      "execution_count": 0,
      "outputs": [
        {
          "output_type": "execute_result",
          "data": {
            "text/plain": [
              "<matplotlib.legend.Legend at 0x7f0b108449b0>"
            ]
          },
          "metadata": {
            "tags": []
          },
          "execution_count": 22
        },
        {
          "output_type": "display_data",
          "data": {
            "image/png": "[encoded data removed]",
            "text/plain": [
              "<Figure size 432x288 with 1 Axes>"
            ]
          },
          "metadata": {
            "tags": []
          }
        }
      ]
    },
    {
      "cell_type": "markdown",
      "metadata": {
        "id": "GEfPjw05f_AB",
        "colab_type": "text"
      },
      "source": [
        "#### Based on distribution plots it's obvious that some features are more effective on classification of the label. For example \"fractal_distribution_mean\" distribtions for two diffrent label classes (0 and 1) are well separated."
      ]
    },
    {
      "cell_type": "markdown",
      "metadata": {
        "id": "zq6zmnT3j5PQ",
        "colab_type": "text"
      },
      "source": [
        "#### According to the distribition plots, some features that are predictive of a malignant tumor:\n",
        "fractal_dimension_mean \n",
        "texture_mean \n",
        "radius_mean \n",
        "perimeter_mean\n",
        "smoothness_mean"
      ]
    },
    {
      "cell_type": "code",
      "metadata": {
        "id": "LdnW-Q2PkWs_",
        "colab_type": "code",
        "outputId": "23fcce2c-7724-4d83-a36a-651109da5392",
        "colab": {
          "base_uri": "https://localhost:8080/"
        }
      },
      "source": [
        "# Checking the correlation between the predictive variables\n",
        "predictive = ['fractal_dimension_mean', 'texture_mean', 'radius_mean', 'perimeter_mean', 'smoothness_mean']\n",
        "df_predictive = df[predictive]\n",
        "\n",
        "# calculate the correlation matrix\n",
        "corr_mat = df_predictive.corr()\n",
        "# plot the heatmap\n",
        "fig, ax = plt.subplots(figsize=(8,8)) \n",
        "sns.heatmap(corr_mat, xticklabels=corr_mat.columns, yticklabels=corr_mat.columns, annot=True, linewidths=.5, ax=ax)"
      ],
      "execution_count": 0,
      "outputs": [
        {
          "output_type": "execute_result",
          "data": {
            "text/plain": [
              "<matplotlib.axes._subplots.AxesSubplot at 0x7f0b1046c4e0>"
            ]
          },
          "metadata": {
            "tags": []
          },
          "execution_count": 23
        },
        {
          "output_type": "display_data",
          "data": {
            "image/png": "[encoded data removed]",
            "text/plain": [
              "<Figure size 576x576 with 2 Axes>"
            ]
          },
          "metadata": {
            "tags": []
          }
        }
      ]
    },
    {
      "cell_type": "markdown",
      "metadata": {
        "id": "DxtOcxMMnUvv",
        "colab_type": "text"
      },
      "source": [
        "It can be seen that some features are highly correlated. For example the correlation between (texture_mean, radius_mean) is 0.99, We can remove texture_mean from our predictive features. "
      ]
    },
    {
      "cell_type": "code",
      "metadata": {
        "id": "CSRBEv47vEIz",
        "colab_type": "code",
        "outputId": "4c7c553a-aee4-48b6-c2b0-7edc4c659156",
        "colab": {
          "base_uri": "https://localhost:8080/"
        }
      },
      "source": [
        "def num_of_outlier(data_frame, feature):\n",
        "  Q1 = data_frame[feature].quantile(0.25)\n",
        "  Q3 = data_frame[feature].quantile(0.75)\n",
        "  IQR = Q3 - Q1\n",
        "  outlier = (data_frame[feature] < (Q1 - 1.5 * IQR)) |(data_frame[feature] > (Q3 + 1.5 * IQR))\n",
        "  num = sum(outlier)\n",
        "  return num\n",
        "\n",
        "print(\"Number of outliers for the feature {} is {}\".format('fractal_dimension_mean', num_of_outlier(df, 'fractal_dimension_mean')))\n",
        "print(\"Number of outliers for the feature {} is {}\".format('radius_mean', num_of_outlier(df, 'radius_mean')))\n",
        "print(\"Number of outliers for the feature {} is {}\".format('perimeter_mean', num_of_outlier(df, 'perimeter_mean')))\n",
        "print(\"Number of outliers for the feature {} is {}\".format('smoothness_mean', num_of_outlier(df, 'smoothness_mean')))"
      ],
      "execution_count": 0,
      "outputs": [
        {
          "output_type": "stream",
          "text": [
            "Number of outliers for the feature fractal_dimension_mean is 0\n",
            "Number of outliers for the feature radius_mean is 14\n",
            "Number of outliers for the feature perimeter_mean is 18\n",
            "Number of outliers for the feature smoothness_mean is 37\n"
          ],
          "name": "stdout"
        }
      ]
    },
    {
      "cell_type": "markdown",
      "metadata": {
        "id": "UfnII5Is0mZu",
        "colab_type": "text"
      },
      "source": [
        "#### Based on the Number of outlier the best important features are 1-fractal_dimension_mean 2-radius_mean 3-perimeter_mean 4-smoothness_mean"
      ]
    },
    {
      "cell_type": "code",
      "metadata": {
        "id": "oA2N6KwDrUxw",
        "colab_type": "code",
        "outputId": "fb8ec111-759a-4d72-fdc1-e4f7e2cf855b",
        "colab": {
          "base_uri": "https://localhost:8080/"
        }
      },
      "source": [
        "sns.boxplot(x=df['fractal_dimension_mean'])"
      ],
      "execution_count": 0,
      "outputs": [
        {
          "output_type": "execute_result",
          "data": {
            "text/plain": [
              "<matplotlib.axes._subplots.AxesSubplot at 0x7f0b0f142128>"
            ]
          },
          "metadata": {
            "tags": []
          },
          "execution_count": 25
        },
        {
          "output_type": "display_data",
          "data": {
            "image/png": "[encoded data removed]",
            "text/plain": [
              "<Figure size 432x288 with 1 Axes>"
            ]
          },
          "metadata": {
            "tags": []
          }
        }
      ]
    },
    {
      "cell_type": "code",
      "metadata": {
        "id": "POfdyUsorpHG",
        "colab_type": "code",
        "outputId": "3dc8ac07-b1fd-48f5-b8f3-97d914f94c19",
        "colab": {
          "base_uri": "https://localhost:8080/"
        }
      },
      "source": [
        "sns.boxplot(x=df[\"radius_mean\"])"
      ],
      "execution_count": 0,
      "outputs": [
        {
          "output_type": "execute_result",
          "data": {
            "text/plain": [
              "<matplotlib.axes._subplots.AxesSubplot at 0x7f0b0f0a11d0>"
            ]
          },
          "metadata": {
            "tags": []
          },
          "execution_count": 26
        },
        {
          "output_type": "display_data",
          "data": {
            "image/png": "[encoded data removed]",
            "text/plain": [
              "<Figure size 432x288 with 1 Axes>"
            ]
          },
          "metadata": {
            "tags": []
          }
        }
      ]
    },
    {
      "cell_type": "code",
      "metadata": {
        "id": "gtpPs99Jtbqu",
        "colab_type": "code",
        "outputId": "8074685b-d88e-4e48-917b-c4f9ce8ceb0c",
        "colab": {
          "base_uri": "https://localhost:8080/"
        }
      },
      "source": [
        "sns.boxplot(x=df['perimeter_mean'])"
      ],
      "execution_count": 0,
      "outputs": [
        {
          "output_type": "execute_result",
          "data": {
            "text/plain": [
              "<matplotlib.axes._subplots.AxesSubplot at 0x7f0b0f069cc0>"
            ]
          },
          "metadata": {
            "tags": []
          },
          "execution_count": 27
        },
        {
          "output_type": "display_data",
          "data": {
            "image/png": "[encoded data removed]",
            "text/plain": [
              "<Figure size 432x288 with 1 Axes>"
            ]
          },
          "metadata": {
            "tags": []
          }
        }
      ]
    },
    {
      "cell_type": "code",
      "metadata": {
        "id": "EkGvGRAMtm1I",
        "colab_type": "code",
        "outputId": "52b7d583-2fe1-474c-ceb6-314e63ef8b4e",
        "colab": {
          "base_uri": "https://localhost:8080/"
        }
      },
      "source": [
        "sns.boxplot(x=df['smoothness_mean'])"
      ],
      "execution_count": 0,
      "outputs": [
        {
          "output_type": "execute_result",
          "data": {
            "text/plain": [
              "<matplotlib.axes._subplots.AxesSubplot at 0x7f0b0f049dd8>"
            ]
          },
          "metadata": {
            "tags": []
          },
          "execution_count": 28
        },
        {
          "output_type": "display_data",
          "data": {
            "image/png": "[encoded data removed]",
            "text/plain": [
              "<Figure size 432x288 with 1 Axes>"
            ]
          },
          "metadata": {
            "tags": []
          }
        }
      ]
    },
    {
      "cell_type": "markdown",
      "metadata": {
        "id": "WGV8YiNY1GXz",
        "colab_type": "text"
      },
      "source": [
        "## 1.3 - Modeling"
      ]
    },
    {
      "cell_type": "code",
      "metadata": {
        "id": "q1Y0fkgQ1FoL",
        "colab_type": "code",
        "outputId": "2014f793-7c5b-4756-8e49-ab2e0c0038d2",
        "colab": {
          "base_uri": "https://localhost:8080/",
          "height": 72
        }
      },
      "source": [
        "# Check distribution of diagnosis\n",
        "print(df.diagnosis.value_counts())"
      ],
      "execution_count": 0,
      "outputs": [
        {
          "output_type": "stream",
          "text": [
            "0    357\n",
            "1    211\n",
            "Name: diagnosis, dtype: int64\n"
          ],
          "name": "stdout"
        }
      ]
    },
    {
      "cell_type": "markdown",
      "metadata": {
        "id": "boCozsGi4FOA",
        "colab_type": "text"
      },
      "source": [
        "The data is not balanced so we can perform oversampling before modeling"
      ]
    },
    {
      "cell_type": "markdown",
      "metadata": {
        "id": "koixt0nK4OtJ",
        "colab_type": "text"
      },
      "source": [
        "### 1.3.1 - Preprocessing"
      ]
    },
    {
      "cell_type": "code",
      "metadata": {
        "id": "FNhYjxbA4U3s",
        "colab_type": "code",
        "colab": {}
      },
      "source": [
        "X = df.drop([\"diagnosis\", \"texture_mean\", \"ID\"], axis = 1)\n",
        "y = df[\"diagnosis\"]"
      ],
      "execution_count": 0,
      "outputs": []
    },
    {
      "cell_type": "code",
      "metadata": {
        "id": "Rvgm1cRH5HWg",
        "colab_type": "code",
        "colab": {}
      },
      "source": [
        "# Split the data to train and test\n",
        "from sklearn.model_selection import train_test_split\n",
        "\n",
        "seed = 0 # the experiments can be replicated\n",
        "\n",
        "# 80% train and 20% test sets\n",
        "X_train, X_test, y_train, y_test = train_test_split(X, y, test_size=0.2, random_state=seed, stratify=y)"
      ],
      "execution_count": 0,
      "outputs": []
    },
    {
      "cell_type": "code",
      "metadata": {
        "id": "0SpfmdijEY8K",
        "colab_type": "code",
        "colab": {}
      },
      "source": [
        "\n",
        "# Feature Scaling\n",
        "from sklearn.preprocessing import StandardScaler\n",
        "sc = StandardScaler()\n",
        "\n",
        "X_train_sc = sc.fit_transform(X_train)\n",
        "X_test_sc = sc.transform(X_test)\n",
        "\n",
        "# changing to data frame\n",
        "X_train_sc = pd.DataFrame(X_train_sc, columns=X_train.columns)\n",
        "X_test_sc = pd.DataFrame(X_test_sc, columns=X_test.columns)\n"
      ],
      "execution_count": 0,
      "outputs": []
    },
    {
      "cell_type": "code",
      "metadata": {
        "id": "zj8EWB0j_ya_",
        "colab_type": "code",
        "colab": {}
      },
      "source": [
        "# perform oversampling on the training set \n",
        "from imblearn.over_sampling import SMOTE\n",
        "\n",
        "sm = SMOTE(random_state=seed)\n",
        "X_train_sm, y_train_sm = sm.fit_sample(X_train_sc, y_train)\n",
        "\n",
        "X_train_sm = pd.DataFrame(data=X_train_sm, columns=X_train_sc.columns )\n",
        "y_train_sm = pd.DataFrame(data=y_train_sm, columns=[\"diagnosis\"])"
      ],
      "execution_count": 0,
      "outputs": []
    },
    {
      "cell_type": "markdown",
      "metadata": {
        "id": "wCiyAZePHk2N",
        "colab_type": "text"
      },
      "source": [
        "### 1.4 - Random Forest Classifier"
      ]
    },
    {
      "cell_type": "code",
      "metadata": {
        "id": "kXCfMtx0AgCW",
        "colab_type": "code",
        "outputId": "4c40d6d5-d60c-4284-d8be-e6a1c412b011",
        "colab": {
          "base_uri": "https://localhost:8080/",
          "height": 472
        }
      },
      "source": [
        "from sklearn.model_selection import ParameterGrid \n",
        "from sklearn.ensemble import RandomForestClassifier\n",
        "from sklearn.metrics import accuracy_score, roc_auc_score, f1_score, classification_report\n",
        "\n",
        "param = {'max_depth': 3, 'max_features': 'sqrt', 'min_samples_leaf': 2, 'n_estimators': 100, 'random_state': 0, 'verbose': 0}\n",
        "\n",
        "rf = RandomForestClassifier(**param)\n",
        "rf.fit(X_train_sm, y_train_sm)  # training stage\n",
        "\n",
        "print(\"Performance (test set): \\n\")\n",
        "\n",
        "y_pre = rf.predict(X_test_sc) # predictions\n",
        "y_pro = rf.predict_proba(X_test_sc)[:, 1]\n",
        "\n",
        "y_pre_train = rf.predict(X_train_sm) # predictions\n",
        "y_pro_train = rf.predict_proba(X_train_sm)[:, 1]\n",
        "\n",
        "print(\"AUC Score : %.4f\" % roc_auc_score(y_test, y_pro))\n",
        "print(\"Accuracy : %.4f \\n\" % accuracy_score(y_test, y_pre))\n",
        "\n",
        "print(\"\\nPerformance (train set): \\n\")\n",
        "\n",
        "print(\"AUC Score : %.4f\" % roc_auc_score(y_train_sm, y_pro_train))\n",
        "print(\"Accuracy : %.4f \\n\" % accuracy_score(y_train_sm, y_pre_train))\n",
        "\n",
        "print(\"Report of metrics on the test set:\\n\")\n",
        "print(\"Accuracy score: {}\".format(accuracy_score(y_test, y_pre)))\n",
        "print(\"f1 score: {}\".format(f1_score(y_test, y_pre)))\n",
        "print(\"=\"*60)\n",
        "print(classification_report(y_test, y_pre))"
      ],
      "execution_count": 0,
      "outputs": [
        {
          "output_type": "stream",
          "text": [
            "Performance (test set): \n",
            "\n",
            "AUC Score : 0.9808\n",
            "Accuracy : 0.9298 \n",
            "\n",
            "\n",
            "Performance (train set): \n",
            "\n",
            "AUC Score : 0.9976\n",
            "Accuracy : 0.9825 \n",
            "\n",
            "Report of metrics on the test set:\n",
            "\n",
            "Accuracy score: 0.9298245614035088\n",
            "f1 score: 0.909090909090909\n",
            "============================================================\n",
            "              precision    recall  f1-score   support\n",
            "\n",
            "           0       0.97      0.92      0.94        72\n",
            "           1       0.87      0.95      0.91        42\n",
            "\n",
            "    accuracy                           0.93       114\n",
            "   macro avg       0.92      0.93      0.93       114\n",
            "weighted avg       0.93      0.93      0.93       114\n",
            "\n"
          ],
          "name": "stdout"
        }
      ]
    },
    {
      "cell_type": "code",
      "metadata": {
        "id": "PhdUZY3UAgW-",
        "colab_type": "code",
        "outputId": "d4ae67dc-35b1-43c9-8acd-e07f292e7a98",
        "colab": {
          "base_uri": "https://localhost:8080/",
          "height": 363
        }
      },
      "source": [
        "# The most important features\n",
        "n = 10 # top 10 features\n",
        "pd.Series(rf.feature_importances_, index=X_train.columns).nlargest(10).plot(kind='barh', figsize=[10, 10/2], color='magenta').invert_yaxis()    #  important feature in descending order\n",
        "ticks_x = np.linspace(0, 0.18, 5)   # (start, end, number of ticks)\n",
        "plt.xticks(ticks_x, fontsize=15, color='black')\n",
        "plt.yticks(size=15, color='navy' )\n",
        "plt.title('The Most Important Features', family='fantasy', size=18)"
      ],
      "execution_count": 0,
      "outputs": [
        {
          "output_type": "execute_result",
          "data": {
            "text/plain": [
              "Text(0.5, 1.0, 'The Most Important Features')"
            ]
          },
          "metadata": {
            "tags": []
          },
          "execution_count": 35
        },
        {
          "output_type": "stream",
          "text": [
            "findfont: Font family ['fantasy'] not found. Falling back to DejaVu Sans.\n"
          ],
          "name": "stderr"
        },
        {
          "output_type": "display_data",
          "data": {
            "image/png": "[encoded data removed]",
            "text/plain": [
              "<Figure size 720x360 with 1 Axes>"
            ]
          },
          "metadata": {
            "tags": []
          }
        }
      ]
    },
    {
      "cell_type": "markdown",
      "metadata": {
        "id": "JdNHCul2SEIX",
        "colab_type": "text"
      },
      "source": [
        "The most impartant features are coming at the top of trees and less important at the buttom of the trees."
      ]
    },
    {
      "cell_type": "markdown",
      "metadata": {
        "id": "ubk6I9ajQL5u",
        "colab_type": "text"
      },
      "source": [
        "In Random forest overfitting can be controled by the number of trees, the number of features that are randomly chosen to grow each tree from the bootstrapped data.\n",
        "\n",
        "\n"
      ]
    },
    {
      "cell_type": "markdown",
      "metadata": {
        "id": "eIVsCyE5SSFv",
        "colab_type": "text"
      },
      "source": [
        "### 1.5 - xgboost"
      ]
    },
    {
      "cell_type": "code",
      "metadata": {
        "id": "haT6q_ZgSZjo",
        "colab_type": "code",
        "outputId": "9f2c3b9f-3bab-4082-c992-6a0833b42826",
        "colab": {
          "base_uri": "https://localhost:8080/",
          "height": 472
        }
      },
      "source": [
        "from xgboost import XGBClassifier, plot_importance\n",
        "\n",
        "param = {'colsample_bylevel': 0.8, 'eta': 0.1, 'max_depth': 2, 'n_estimators': 50, 'objective': 'binary:logistic', 'seed': 0}\n",
        "\n",
        "xgb = XGBClassifier(**param)\n",
        "xgb.fit(X_train_sm, y_train_sm)  # training stage\n",
        "\n",
        "print(\"Performance (test set): \\n\")\n",
        "\n",
        "y_pre = xgb.predict(X_test_sc) # predictions\n",
        "y_pro = xgb.predict_proba(X_test_sc)[:, 1]\n",
        "\n",
        "y_pre_train = rf.predict(X_train_sm) # predictions\n",
        "y_pro_train = rf.predict_proba(X_train_sm)[:, 1]\n",
        "\n",
        "print(\"AUC Score : %.4f\" % roc_auc_score(y_test, y_pro))\n",
        "print(\"Accuracy : %.4f \\n\" % accuracy_score(y_test, y_pre))\n",
        "\n",
        "print(\"\\nPerformance (train set): \\n\")\n",
        "\n",
        "print(\"AUC Score : %.4f\" % roc_auc_score(y_train_sm, y_pro_train))\n",
        "print(\"Accuracy : %.4f \\n\" % accuracy_score(y_train_sm, y_pre_train))\n",
        "\n",
        "print(\"Report of metrics on the test set:\\n\")\n",
        "print(\"Accuracy score: {}\".format(accuracy_score(y_test, y_pre)))\n",
        "print(\"f1 score: {}\".format(f1_score(y_test, y_pre)))\n",
        "print(\"=\"*60)\n",
        "print(classification_report(y_test, y_pre))"
      ],
      "execution_count": 0,
      "outputs": [
        {
          "output_type": "stream",
          "text": [
            "Performance (test set): \n",
            "\n",
            "AUC Score : 0.9835\n",
            "Accuracy : 0.9737 \n",
            "\n",
            "\n",
            "Performance (train set): \n",
            "\n",
            "AUC Score : 0.9976\n",
            "Accuracy : 0.9825 \n",
            "\n",
            "Report of metrics on the test set:\n",
            "\n",
            "Accuracy score: 0.9736842105263158\n",
            "f1 score: 0.9647058823529412\n",
            "============================================================\n",
            "              precision    recall  f1-score   support\n",
            "\n",
            "           0       0.99      0.97      0.98        72\n",
            "           1       0.95      0.98      0.96        42\n",
            "\n",
            "    accuracy                           0.97       114\n",
            "   macro avg       0.97      0.97      0.97       114\n",
            "weighted avg       0.97      0.97      0.97       114\n",
            "\n"
          ],
          "name": "stdout"
        }
      ]
    },
    {
      "cell_type": "code",
      "metadata": {
        "id": "qSke9iAUUIL4",
        "colab_type": "code",
        "outputId": "1b40ecb5-3307-4627-cf99-9a147ed45c2e",
        "colab": {
          "base_uri": "https://localhost:8080/",
          "height": 567
        }
      },
      "source": [
        "# importance_type = Weight => The number of times a feature is used to split the data across all trees.\n",
        "fig, (ax) = plt.subplots(ncols=1, figsize=(12,9))\n",
        "plot_importance(xgb, height=0.8, title=\"Features importance for XGBoost model\", ax=ax, color=\"magenta\") \n",
        "plt.show()"
      ],
      "execution_count": 0,
      "outputs": [
        {
          "output_type": "display_data",
          "data": {
            "image/png": "[encoded data removed]",
            "text/plain": [
              "<Figure size 864x648 with 1 Axes>"
            ]
          },
          "metadata": {
            "tags": []
          }
        }
      ]
    },
    {
      "cell_type": "markdown",
      "metadata": {
        "id": "l-tINYRBnwAx",
        "colab_type": "text"
      },
      "source": [
        "in Xgboost eta, max_depth, subsample control the overfitting"
      ]
    },
    {
      "cell_type": "markdown",
      "metadata": {
        "id": "GN43ed-HgWKu",
        "colab_type": "text"
      },
      "source": [
        "### 1.6 - Explanation to Technical Audience"
      ]
    },
    {
      "cell_type": "markdown",
      "metadata": {
        "id": "BwNTA88Ogj_7",
        "colab_type": "text"
      },
      "source": [
        "We have used two common methods Random forest and xgboost to predict our labels. The f1 score for random forest is 0.91. while the f1 score for xgboost is 0.964. \n",
        "For xgboost the AUC score for the training dataset is 0.9976 and for the testing data set is 0.9835.\n",
        "For random forest the AUC score is 0.9976 for the training set but for testing is 0.9808. Based on the f1 score and AUC we can conclude that xgboost performance is better than random forest. \n",
        "Since the difference in the evaluation metrics between the training and testing data set is not high we can conclude that our model do not suffer from overfitting.\n",
        "To imrpve our model we can perform hyperparameter tuning and kfold cross validation. Since it's a binary classfication problem we can check hyperparameter tuning on the threshold as well. The default threshold is 0.5"
      ]
    },
    {
      "cell_type": "markdown",
      "metadata": {
        "id": "sZC771Qkvf0z",
        "colab_type": "text"
      },
      "source": [
        "### 1.7 - Explanation to Non-Technical Audiences"
      ]
    },
    {
      "cell_type": "markdown",
      "metadata": {
        "id": "-1jtoXlnzUg8",
        "colab_type": "text"
      },
      "source": [
        "Using the machine learning tenchniques we can predict malignant vs benign tumor. We have used two classification methods. our models takes different input features like radius_mean, area_mean, symmetry_mean and identifies (diagnose) malignant vs benign tumor. In our prediction, we can reach to 97% accuracy.\n",
        "\n",
        "Based on our xgboost model prediction, the most import features having impact on the diagnosis are concave_points_sd_error, concave_points_mean, fractal_dimension_mean, radius_sd_error, etc. "
      ]
    },
    {
      "cell_type": "markdown",
      "metadata": {
        "id": "ZDhweCgAQ2JV",
        "colab_type": "text"
      },
      "source": [
        "## DSI Instructor Task: Part 2"
      ]
    },
    {
      "cell_type": "markdown",
      "metadata": {
        "id": "foGN0_wPRRr1",
        "colab_type": "text"
      },
      "source": [
        "## 2.1 - Code"
      ]
    },
    {
      "cell_type": "markdown",
      "metadata": {
        "id": "XvG_sWEHRn-V",
        "colab_type": "text"
      },
      "source": [
        "**Student sample 1:**\n",
        "* train_test_split has been imported but not used\n",
        "* LinearRegression needs to be imported from sklearn.linear_model\n",
        "* data loaded into d dataframe but used as data\n",
        "* cv=1 in cross_val_score\n",
        "* cross_val_score and train_test_split could be imported in one import line\n",
        "* cross_val_score has used x2 instead of label x1\n",
        "* x1 is 1-D array and can't be used for prediction\n",
        "* We need to use label encoder before using pd.get_dummies\n",
        "* cross_val_score has been imported twice\n",
        "\n",
        "**Student sample 2:**\n",
        "* comments could be more meaningful\n",
        "* X should be a data frame to be used on cross validation\n",
        "* pd.get_dummies as mentioned in studen 1\n",
        "\n"
      ]
    },
    {
      "cell_type": "markdown",
      "metadata": {
        "id": "dgAw6TtmYv7p",
        "colab_type": "text"
      },
      "source": [
        "### 2.2 - Methodology\n",
        "\n",
        "**Student sample 1 & 2:**\n",
        "\n",
        "*   Data should be evaluated for missing values\n",
        "*   There should be a check for correlated features   \n",
        "*   No explaratory data analysis\n",
        "*   There is no feature engineering/scaling\n",
        "\n",
        "\n",
        "\n",
        "\n",
        "\n",
        "\n",
        "\n"
      ]
    },
    {
      "cell_type": "markdown",
      "metadata": {
        "id": "rrnfg7_pZL0D",
        "colab_type": "text"
      },
      "source": [
        "### 2.3 - Conceptual Understanding"
      ]
    },
    {
      "cell_type": "markdown",
      "metadata": {
        "id": "cvSfcawSh4aP",
        "colab_type": "text"
      },
      "source": [
        "**Student Sample 1:**\n",
        "\n",
        "*   It failed to create train and test set completely and the student needs to review how to create the train and test set\n",
        "*   Python concept is need to review as there is redundancy in the code\n",
        "*   Feature engineering needs to be reviwed as well\n",
        "*   The student needs to review concept of cross validation\n",
        "*   No EDA\n",
        "\n",
        "**Student Sample 2**\n",
        "\n",
        "*   Code quality is good but can imrove the comments\n",
        "*   No EDA\n",
        "*   Feature engineering needs to be reviewed for the student\n",
        "\n"
      ]
    },
    {
      "cell_type": "markdown",
      "metadata": {
        "id": "9Iv2HqnpH_B7",
        "colab_type": "text"
      },
      "source": [
        ""
      ]
    }
  ]
}